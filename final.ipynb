{
 "cells": [
  {
   "cell_type": "markdown",
   "metadata": {},
   "source": [
    "### Final project\n",
    "\n",
    "We will use a RF to predict spectroscopic properties $\\log g$, $[Fe/H]$, and $T_{\\rm{eff}}$ from light curve data.\n",
    "\n",
    "Paper: https://iopscience.iop.org/article/10.1088/0004-637X/798/2/122/pdf\n",
    "\n",
    "The project combines RF regression with time series."
   ]
  },
  {
   "cell_type": "code",
   "execution_count": null,
   "metadata": {},
   "outputs": [],
   "source": []
  }
 ],
 "metadata": {
  "kernelspec": {
   "display_name": "Python 3",
   "language": "python",
   "name": "python3"
  },
  "language_info": {
   "codemirror_mode": {
    "name": "ipython",
    "version": 3
   },
   "file_extension": ".py",
   "mimetype": "text/x-python",
   "name": "python",
   "nbconvert_exporter": "python",
   "pygments_lexer": "ipython3",
   "version": "3.7.5"
  }
 },
 "nbformat": 4,
 "nbformat_minor": 4
}
