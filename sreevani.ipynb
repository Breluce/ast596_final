{
 "cells": [
  {
   "cell_type": "code",
   "execution_count": 1,
   "metadata": {},
   "outputs": [],
   "source": [
    "import numpy as np\n",
    "import pandas as pd\n",
    "import matplotlib.pyplot as plt\n",
    "import tensorflow as tf\n",
    "from tensorflow import keras\n",
    "from sklearn.model_selection import train_test_split\n",
    "from sklearn.metrics import confusion_matrix"
   ]
  },
  {
   "cell_type": "code",
   "execution_count": 2,
   "metadata": {},
   "outputs": [],
   "source": [
    "df_photo = pd.read_csv('./data/stripe82candidateVar_v1.1.dat',skiprows=5, header=1,index_col=0,sep='\\s+')"
   ]
  },
  {
   "cell_type": "code",
   "execution_count": 3,
   "metadata": {},
   "outputs": [],
   "source": [
    "#df_photo.head()"
   ]
  },
  {
   "cell_type": "code",
   "execution_count": 4,
   "metadata": {},
   "outputs": [],
   "source": [
    "colnames = ['ID','Priority','Flags','Teff','eTeff','NTeff','logg','elogg','Nlogg','Z','eZ','NZ']\n",
    "df_spec = pd.read_csv('./data/t3.txt',sep='\\s+',skiprows=26,header=None,index_col=0,names=colnames)"
   ]
  },
  {
   "cell_type": "code",
   "execution_count": 5,
   "metadata": {},
   "outputs": [],
   "source": [
    "#Combine both datasets \n",
    "df = pd.merge(df_spec, df_photo, on='ID',how='left')"
   ]
  },
  {
   "cell_type": "code",
   "execution_count": 6,
   "metadata": {},
   "outputs": [
    {
     "data": {
      "text/html": [
       "<div>\n",
       "<style scoped>\n",
       "    .dataframe tbody tr th:only-of-type {\n",
       "        vertical-align: middle;\n",
       "    }\n",
       "\n",
       "    .dataframe tbody tr th {\n",
       "        vertical-align: top;\n",
       "    }\n",
       "\n",
       "    .dataframe thead th {\n",
       "        text-align: right;\n",
       "    }\n",
       "</style>\n",
       "<table border=\"1\" class=\"dataframe\">\n",
       "  <thead>\n",
       "    <tr style=\"text-align: right;\">\n",
       "      <th></th>\n",
       "      <th>Priority</th>\n",
       "      <th>Flags</th>\n",
       "      <th>Teff</th>\n",
       "      <th>eTeff</th>\n",
       "      <th>NTeff</th>\n",
       "      <th>logg</th>\n",
       "      <th>elogg</th>\n",
       "      <th>Nlogg</th>\n",
       "      <th>Z</th>\n",
       "      <th>eZ</th>\n",
       "      <th>...</th>\n",
       "      <th>ri</th>\n",
       "      <th>iz</th>\n",
       "      <th>gN</th>\n",
       "      <th>gAmpl</th>\n",
       "      <th>rN</th>\n",
       "      <th>rAmpl</th>\n",
       "      <th>iN</th>\n",
       "      <th>iAmpl</th>\n",
       "      <th>zQSO</th>\n",
       "      <th>MiQSO</th>\n",
       "    </tr>\n",
       "    <tr>\n",
       "      <th>ID</th>\n",
       "      <th></th>\n",
       "      <th></th>\n",
       "      <th></th>\n",
       "      <th></th>\n",
       "      <th></th>\n",
       "      <th></th>\n",
       "      <th></th>\n",
       "      <th></th>\n",
       "      <th></th>\n",
       "      <th></th>\n",
       "      <th></th>\n",
       "      <th></th>\n",
       "      <th></th>\n",
       "      <th></th>\n",
       "      <th></th>\n",
       "      <th></th>\n",
       "      <th></th>\n",
       "      <th></th>\n",
       "      <th></th>\n",
       "      <th></th>\n",
       "      <th></th>\n",
       "    </tr>\n",
       "  </thead>\n",
       "  <tbody>\n",
       "    <tr>\n",
       "      <th>4172970</th>\n",
       "      <td>4.0</td>\n",
       "      <td>nnnnn</td>\n",
       "      <td>5499.7</td>\n",
       "      <td>94.7</td>\n",
       "      <td>7</td>\n",
       "      <td>3.94</td>\n",
       "      <td>0.18</td>\n",
       "      <td>6</td>\n",
       "      <td>0.01</td>\n",
       "      <td>0.12</td>\n",
       "      <td>...</td>\n",
       "      <td>0.13</td>\n",
       "      <td>0.07</td>\n",
       "      <td>29</td>\n",
       "      <td>0.197</td>\n",
       "      <td>27</td>\n",
       "      <td>0.156</td>\n",
       "      <td>27</td>\n",
       "      <td>0.231</td>\n",
       "      <td>-9.9</td>\n",
       "      <td>-9.9</td>\n",
       "    </tr>\n",
       "    <tr>\n",
       "      <th>4583821</th>\n",
       "      <td>5.0</td>\n",
       "      <td>Nnnnn</td>\n",
       "      <td>4487.8</td>\n",
       "      <td>120.3</td>\n",
       "      <td>3</td>\n",
       "      <td>4.19</td>\n",
       "      <td>0.26</td>\n",
       "      <td>2</td>\n",
       "      <td>-0.95</td>\n",
       "      <td>0.08</td>\n",
       "      <td>...</td>\n",
       "      <td>0.30</td>\n",
       "      <td>0.16</td>\n",
       "      <td>50</td>\n",
       "      <td>0.124</td>\n",
       "      <td>49</td>\n",
       "      <td>0.106</td>\n",
       "      <td>51</td>\n",
       "      <td>0.094</td>\n",
       "      <td>-9.9</td>\n",
       "      <td>-9.9</td>\n",
       "    </tr>\n",
       "    <tr>\n",
       "      <th>4651452</th>\n",
       "      <td>2.0</td>\n",
       "      <td>NnBnX</td>\n",
       "      <td>-9999.0</td>\n",
       "      <td>-9999.0</td>\n",
       "      <td>0</td>\n",
       "      <td>-9999.00</td>\n",
       "      <td>-9999.00</td>\n",
       "      <td>0</td>\n",
       "      <td>-9999.00</td>\n",
       "      <td>-9999.00</td>\n",
       "      <td>...</td>\n",
       "      <td>-0.06</td>\n",
       "      <td>0.26</td>\n",
       "      <td>36</td>\n",
       "      <td>0.505</td>\n",
       "      <td>33</td>\n",
       "      <td>0.460</td>\n",
       "      <td>27</td>\n",
       "      <td>1.150</td>\n",
       "      <td>-9.9</td>\n",
       "      <td>-9.9</td>\n",
       "    </tr>\n",
       "    <tr>\n",
       "      <th>4777216</th>\n",
       "      <td>9.0</td>\n",
       "      <td>nnnnX</td>\n",
       "      <td>-9999.0</td>\n",
       "      <td>-9999.0</td>\n",
       "      <td>0</td>\n",
       "      <td>-9999.00</td>\n",
       "      <td>-9999.00</td>\n",
       "      <td>0</td>\n",
       "      <td>-9999.00</td>\n",
       "      <td>-9999.00</td>\n",
       "      <td>...</td>\n",
       "      <td>0.10</td>\n",
       "      <td>0.02</td>\n",
       "      <td>47</td>\n",
       "      <td>0.133</td>\n",
       "      <td>47</td>\n",
       "      <td>0.394</td>\n",
       "      <td>47</td>\n",
       "      <td>0.154</td>\n",
       "      <td>-9.9</td>\n",
       "      <td>-9.9</td>\n",
       "    </tr>\n",
       "    <tr>\n",
       "      <th>5302673</th>\n",
       "      <td>9.0</td>\n",
       "      <td>nnnnn</td>\n",
       "      <td>5986.7</td>\n",
       "      <td>161.8</td>\n",
       "      <td>4</td>\n",
       "      <td>3.93</td>\n",
       "      <td>0.79</td>\n",
       "      <td>2</td>\n",
       "      <td>-0.76</td>\n",
       "      <td>0.09</td>\n",
       "      <td>...</td>\n",
       "      <td>0.13</td>\n",
       "      <td>-0.05</td>\n",
       "      <td>36</td>\n",
       "      <td>0.332</td>\n",
       "      <td>33</td>\n",
       "      <td>0.175</td>\n",
       "      <td>39</td>\n",
       "      <td>0.253</td>\n",
       "      <td>-9.9</td>\n",
       "      <td>-9.9</td>\n",
       "    </tr>\n",
       "  </tbody>\n",
       "</table>\n",
       "<p>5 rows × 27 columns</p>\n",
       "</div>"
      ],
      "text/plain": [
       "         Priority  Flags    Teff   eTeff  NTeff     logg    elogg  Nlogg  \\\n",
       "ID                                                                         \n",
       "4172970       4.0  nnnnn  5499.7    94.7      7     3.94     0.18      6   \n",
       "4583821       5.0  Nnnnn  4487.8   120.3      3     4.19     0.26      2   \n",
       "4651452       2.0  NnBnX -9999.0 -9999.0      0 -9999.00 -9999.00      0   \n",
       "4777216       9.0  nnnnX -9999.0 -9999.0      0 -9999.00 -9999.00      0   \n",
       "5302673       9.0  nnnnn  5986.7   161.8      4     3.93     0.79      2   \n",
       "\n",
       "               Z       eZ  ...    ri    iz  gN  gAmpl  rN  rAmpl  iN  iAmpl  \\\n",
       "ID                         ...                                                \n",
       "4172970     0.01     0.12  ...  0.13  0.07  29  0.197  27  0.156  27  0.231   \n",
       "4583821    -0.95     0.08  ...  0.30  0.16  50  0.124  49  0.106  51  0.094   \n",
       "4651452 -9999.00 -9999.00  ... -0.06  0.26  36  0.505  33  0.460  27  1.150   \n",
       "4777216 -9999.00 -9999.00  ...  0.10  0.02  47  0.133  47  0.394  47  0.154   \n",
       "5302673    -0.76     0.09  ...  0.13 -0.05  36  0.332  33  0.175  39  0.253   \n",
       "\n",
       "         zQSO  MiQSO  \n",
       "ID                    \n",
       "4172970  -9.9   -9.9  \n",
       "4583821  -9.9   -9.9  \n",
       "4651452  -9.9   -9.9  \n",
       "4777216  -9.9   -9.9  \n",
       "5302673  -9.9   -9.9  \n",
       "\n",
       "[5 rows x 27 columns]"
      ]
     },
     "execution_count": 6,
     "metadata": {},
     "output_type": "execute_result"
    }
   ],
   "source": [
    "df.head()"
   ]
  },
  {
   "cell_type": "code",
   "execution_count": 7,
   "metadata": {},
   "outputs": [
    {
     "data": {
      "text/plain": [
       "Index(['Priority', 'Flags', 'Teff', 'eTeff', 'NTeff', 'logg', 'elogg', 'Nlogg',\n",
       "       'Z', 'eZ', 'NZ', 'ra', 'dec', 'P', 'r', 'ug', 'gr', 'ri', 'iz', 'gN',\n",
       "       'gAmpl', 'rN', 'rAmpl', 'iN', 'iAmpl', 'zQSO', 'MiQSO'],\n",
       "      dtype='object')"
      ]
     },
     "execution_count": 7,
     "metadata": {},
     "output_type": "execute_result"
    }
   ],
   "source": [
    "df.columns"
   ]
  },
  {
   "cell_type": "code",
   "execution_count": 8,
   "metadata": {},
   "outputs": [],
   "source": [
    "# Cleaning the training set not clearly mentioned in the paper. \n",
    "#Usign the entire dataset for now\n",
    "#df = df[(df['Flags'] != 'nnnnn') & (df[Z] > -3.0)]"
   ]
  },
  {
   "cell_type": "markdown",
   "metadata": {},
   "source": [
    "# Neural Network"
   ]
  },
  {
   "cell_type": "code",
   "execution_count": 9,
   "metadata": {},
   "outputs": [],
   "source": [
    "df_nonan = df[df['Teff'] != -9999.0]"
   ]
  },
  {
   "cell_type": "code",
   "execution_count": 25,
   "metadata": {},
   "outputs": [
    {
     "data": {
      "text/plain": [
       "3960"
      ]
     },
     "execution_count": 25,
     "metadata": {},
     "output_type": "execute_result"
    }
   ],
   "source": [
    "len(df_nonan)"
   ]
  },
  {
   "cell_type": "code",
   "execution_count": 10,
   "metadata": {},
   "outputs": [],
   "source": [
    "df_Y = df_nonan['Teff']"
   ]
  },
  {
   "cell_type": "code",
   "execution_count": 11,
   "metadata": {},
   "outputs": [],
   "source": [
    "#Using just photometry and no light curve information\n",
    "df_X = df_nonan[['ug','gr','ri','iz']]"
   ]
  },
  {
   "cell_type": "code",
   "execution_count": 12,
   "metadata": {},
   "outputs": [],
   "source": [
    "train_X, test_X, train_y, test_y = train_test_split(df_X, df_Y, random_state=1, test_size=0.25)"
   ]
  },
  {
   "cell_type": "code",
   "execution_count": 13,
   "metadata": {},
   "outputs": [
    {
     "data": {
      "text/html": [
       "<div>\n",
       "<style scoped>\n",
       "    .dataframe tbody tr th:only-of-type {\n",
       "        vertical-align: middle;\n",
       "    }\n",
       "\n",
       "    .dataframe tbody tr th {\n",
       "        vertical-align: top;\n",
       "    }\n",
       "\n",
       "    .dataframe thead th {\n",
       "        text-align: right;\n",
       "    }\n",
       "</style>\n",
       "<table border=\"1\" class=\"dataframe\">\n",
       "  <thead>\n",
       "    <tr style=\"text-align: right;\">\n",
       "      <th></th>\n",
       "      <th>count</th>\n",
       "      <th>mean</th>\n",
       "      <th>std</th>\n",
       "      <th>min</th>\n",
       "      <th>25%</th>\n",
       "      <th>50%</th>\n",
       "      <th>75%</th>\n",
       "      <th>max</th>\n",
       "    </tr>\n",
       "  </thead>\n",
       "  <tbody>\n",
       "    <tr>\n",
       "      <th>ug</th>\n",
       "      <td>2970.0</td>\n",
       "      <td>1.607599</td>\n",
       "      <td>0.507682</td>\n",
       "      <td>-0.05</td>\n",
       "      <td>1.19</td>\n",
       "      <td>1.48</td>\n",
       "      <td>1.97</td>\n",
       "      <td>3.19</td>\n",
       "    </tr>\n",
       "    <tr>\n",
       "      <th>gr</th>\n",
       "      <td>2970.0</td>\n",
       "      <td>0.605354</td>\n",
       "      <td>0.282562</td>\n",
       "      <td>-0.23</td>\n",
       "      <td>0.41</td>\n",
       "      <td>0.54</td>\n",
       "      <td>0.77</td>\n",
       "      <td>1.41</td>\n",
       "    </tr>\n",
       "    <tr>\n",
       "      <th>ri</th>\n",
       "      <td>2970.0</td>\n",
       "      <td>0.213303</td>\n",
       "      <td>0.137128</td>\n",
       "      <td>-0.27</td>\n",
       "      <td>0.13</td>\n",
       "      <td>0.18</td>\n",
       "      <td>0.27</td>\n",
       "      <td>1.22</td>\n",
       "    </tr>\n",
       "    <tr>\n",
       "      <th>iz</th>\n",
       "      <td>2970.0</td>\n",
       "      <td>0.080121</td>\n",
       "      <td>0.098160</td>\n",
       "      <td>-0.29</td>\n",
       "      <td>0.01</td>\n",
       "      <td>0.06</td>\n",
       "      <td>0.13</td>\n",
       "      <td>0.71</td>\n",
       "    </tr>\n",
       "  </tbody>\n",
       "</table>\n",
       "</div>"
      ],
      "text/plain": [
       "     count      mean       std   min   25%   50%   75%   max\n",
       "ug  2970.0  1.607599  0.507682 -0.05  1.19  1.48  1.97  3.19\n",
       "gr  2970.0  0.605354  0.282562 -0.23  0.41  0.54  0.77  1.41\n",
       "ri  2970.0  0.213303  0.137128 -0.27  0.13  0.18  0.27  1.22\n",
       "iz  2970.0  0.080121  0.098160 -0.29  0.01  0.06  0.13  0.71"
      ]
     },
     "execution_count": 13,
     "metadata": {},
     "output_type": "execute_result"
    }
   ],
   "source": [
    "train_stats = train_X.describe()\n",
    "train_stats = train_stats.transpose()\n",
    "train_stats"
   ]
  },
  {
   "cell_type": "code",
   "execution_count": 14,
   "metadata": {},
   "outputs": [],
   "source": [
    "def norm(x):\n",
    "    return (x - train_stats['mean']) / train_stats['std']\n",
    "normed_train_data = norm(train_X)\n",
    "normed_test_data = norm(test_X)"
   ]
  },
  {
   "cell_type": "code",
   "execution_count": 18,
   "metadata": {},
   "outputs": [],
   "source": [
    "\"\"\"\n",
    "model_temp = keras.Sequential([\n",
    "    keras.layers.Flatten(input_shape=(len(train_X.columns),)),\n",
    "    keras.layers.Dense(64, activation=tf.nn.relu),\n",
    "    keras.layers.Dense(64, activation=tf.nn.relu),\n",
    "    keras.layers.Dropout(0.25),\n",
    "    keras.layers.Dense(8, activation=tf.nn.relu),\n",
    "    keras.layers.Dense(1)\n",
    "])\n",
    "\"\"\"\n",
    "\n",
    "model_temp = keras.Sequential([\n",
    "    keras.layers.Flatten(input_shape=(len(train_X.columns),)),\n",
    "    keras.layers.Dense(64, activation=tf.nn.relu),\n",
    "    keras.layers.Dense(64, activation=tf.nn.relu),\n",
    "    keras.layers.Dense(1)\n",
    "])"
   ]
  },
  {
   "cell_type": "code",
   "execution_count": 19,
   "metadata": {},
   "outputs": [],
   "source": [
    "adm = keras.optimizers.Adam(lr=0.001, beta_1=0.9, beta_2=0.999, amsgrad=False)"
   ]
  },
  {
   "cell_type": "code",
   "execution_count": 20,
   "metadata": {},
   "outputs": [],
   "source": [
    "model_temp.compile(optimizer=adm,\n",
    "              loss='mse',\n",
    "              metrics=['mse','mape'])"
   ]
  },
  {
   "cell_type": "code",
   "execution_count": 21,
   "metadata": {},
   "outputs": [
    {
     "data": {
      "text/plain": [
       "array([[ 0.03820833],\n",
       "       [ 0.06348843],\n",
       "       [-0.3866602 ],\n",
       "       [ 0.0272007 ],\n",
       "       [-0.03295853],\n",
       "       [-0.3849567 ],\n",
       "       [ 0.07413974],\n",
       "       [-0.6715499 ],\n",
       "       [ 0.05467436],\n",
       "       [ 0.09724782]], dtype=float32)"
      ]
     },
     "execution_count": 21,
     "metadata": {},
     "output_type": "execute_result"
    }
   ],
   "source": [
    "example_batch = normed_train_data[:10]\n",
    "example_result = model_temp.predict(example_batch)\n",
    "example_result"
   ]
  },
  {
   "cell_type": "code",
   "execution_count": 22,
   "metadata": {},
   "outputs": [
    {
     "name": "stdout",
     "output_type": "stream",
     "text": [
      "Train on 2524 samples, validate on 446 samples\n",
      "Epoch 1/20\n",
      "2524/2524 [==============================] - 0s 155us/sample - loss: 29439666.1014 - mse: 29439672.0000 - mape: 99.9157 - val_loss: 29584702.6637 - val_mse: 29584706.0000 - val_mape: 99.7295\n",
      "Epoch 2/20\n",
      "2524/2524 [==============================] - 0s 69us/sample - loss: 28899863.0460 - mse: 28899860.0000 - mape: 98.9890 - val_loss: 28470812.1525 - val_mse: 28470812.0000 - val_mape: 97.8444\n",
      "Epoch 3/20\n",
      "2524/2524 [==============================] - 0s 31us/sample - loss: 26801209.1981 - mse: 26801214.0000 - mape: 95.2737 - val_loss: 25259883.4350 - val_mse: 25259880.0000 - val_mape: 92.1389\n",
      "Epoch 4/20\n",
      "2524/2524 [==============================] - 0s 32us/sample - loss: 22293259.5594 - mse: 22293260.0000 - mape: 86.6092 - val_loss: 19624071.6233 - val_mse: 19624072.0000 - val_mape: 80.9242\n",
      "Epoch 5/20\n",
      "2524/2524 [==============================] - 0s 33us/sample - loss: 15906292.6450 - mse: 15906293.0000 - mape: 72.2673 - val_loss: 12941813.6099 - val_mse: 12941814.0000 - val_mape: 64.4341\n",
      "Epoch 6/20\n",
      "2524/2524 [==============================] - 0s 31us/sample - loss: 9762664.5594 - mse: 9762665.0000 - mape: 54.6037 - val_loss: 7692892.5247 - val_mse: 7692892.5000 - val_mape: 47.3922\n",
      "Epoch 7/20\n",
      "2524/2524 [==============================] - 0s 31us/sample - loss: 5940363.1387 - mse: 5940363.0000 - mape: 41.1098 - val_loss: 5143378.8789 - val_mse: 5143378.5000 - val_mape: 37.3021\n",
      "Epoch 8/20\n",
      "2524/2524 [==============================] - 0s 31us/sample - loss: 4453117.3411 - mse: 4453118.0000 - mape: 34.5775 - val_loss: 4265463.1413 - val_mse: 4265463.0000 - val_mape: 33.4198\n",
      "Epoch 9/20\n",
      "2524/2524 [==============================] - 0s 31us/sample - loss: 3895237.8693 - mse: 3895238.7500 - mape: 31.9858 - val_loss: 3819570.4630 - val_mse: 3819570.2500 - val_mape: 31.5132\n",
      "Epoch 10/20\n",
      "2524/2524 [==============================] - 0s 32us/sample - loss: 3513257.9041 - mse: 3513258.0000 - mape: 30.2306 - val_loss: 3413152.5796 - val_mse: 3413152.5000 - val_mape: 29.8222\n",
      "Epoch 11/20\n",
      "2524/2524 [==============================] - 0s 31us/sample - loss: 3133236.1466 - mse: 3133236.0000 - mape: 28.5957 - val_loss: 3001182.3543 - val_mse: 3001182.2500 - val_mape: 27.9348\n",
      "Epoch 12/20\n",
      "2524/2524 [==============================] - 0s 31us/sample - loss: 2739598.6490 - mse: 2739598.5000 - mape: 26.7140 - val_loss: 2574146.8621 - val_mse: 2574146.5000 - val_mape: 25.8664\n",
      "Epoch 13/20\n",
      "2524/2524 [==============================] - 0s 30us/sample - loss: 2334827.5624 - mse: 2334827.2500 - mape: 24.6220 - val_loss: 2137181.2904 - val_mse: 2137181.2500 - val_mape: 23.4728\n",
      "Epoch 14/20\n",
      "2524/2524 [==============================] - 0s 31us/sample - loss: 1931896.7322 - mse: 1931896.2500 - mape: 22.2125 - val_loss: 1715483.1295 - val_mse: 1715483.2500 - val_mape: 20.8045\n",
      "Epoch 15/20\n",
      "2524/2524 [==============================] - 0s 31us/sample - loss: 1554901.9966 - mse: 1554902.0000 - mape: 19.5899 - val_loss: 1340126.6670 - val_mse: 1340126.7500 - val_mape: 18.2076\n",
      "Epoch 16/20\n",
      "2524/2524 [==============================] - 0s 31us/sample - loss: 1231380.4697 - mse: 1231380.6250 - mape: 17.1338 - val_loss: 1026904.7864 - val_mse: 1026904.7500 - val_mape: 15.7338\n",
      "Epoch 17/20\n",
      "2524/2524 [==============================] - 0s 30us/sample - loss: 968494.0506 - mse: 968494.0625 - mape: 14.9576 - val_loss: 771067.0437 - val_mse: 771067.1250 - val_mape: 13.5496\n",
      "Epoch 18/20\n",
      "2524/2524 [==============================] - 0s 31us/sample - loss: 762080.8008 - mse: 762080.6875 - mape: 13.0901 - val_loss: 581666.3223 - val_mse: 581666.3125 - val_mape: 11.7347\n",
      "Epoch 19/20\n",
      "2524/2524 [==============================] - 0s 31us/sample - loss: 601361.4830 - mse: 601361.5000 - mape: 11.4979 - val_loss: 438083.8687 - val_mse: 438083.8750 - val_mape: 10.1355\n",
      "Epoch 20/20\n",
      "2524/2524 [==============================] - 0s 30us/sample - loss: 475054.9628 - mse: 475054.9688 - mape: 10.0585 - val_loss: 331154.2964 - val_mse: 331154.2812 - val_mape: 8.7484\n"
     ]
    }
   ],
   "source": [
    "history = model_temp.fit(normed_train_data, train_y, epochs=20, batch_size=32, validation_split = 0.15)"
   ]
  },
  {
   "cell_type": "code",
   "execution_count": 23,
   "metadata": {},
   "outputs": [
    {
     "name": "stdout",
     "output_type": "stream",
     "text": [
      "990/990 [==============================] - 0s 21us/sample - loss: 371084.0984 - mse: 371084.0625 - mape: 8.9224\n"
     ]
    }
   ],
   "source": [
    "loss, mae, mse = model_temp.evaluate(normed_test_data, test_y)"
   ]
  },
  {
   "cell_type": "code",
   "execution_count": 24,
   "metadata": {},
   "outputs": [
    {
     "data": {
      "text/plain": [
       "(3000.0, 10000.0)"
      ]
     },
     "execution_count": 24,
     "metadata": {},
     "output_type": "execute_result"
    },
    {
     "data": {
      "image/png": "[encoded data removed]",
      "text/plain": [
       "<Figure size 576x576 with 1 Axes>"
      ]
     },
     "metadata": {
      "needs_background": "light"
     },
     "output_type": "display_data"
    }
   ],
   "source": [
    "test_predictions = model_temp.predict(normed_test_data).flatten()\n",
    "\n",
    "fig = plt.figure(1,figsize=(8,8))\n",
    "ax = fig.add_subplot(111)\n",
    "ax.set_aspect('equal')\n",
    "\n",
    "ax.scatter(test_y, test_predictions)\n",
    "ax.set_xlabel('True Values')\n",
    "ax.set_ylabel('Predictions')\n",
    "ax.set_xlim(3000,10000)\n",
    "ax.set_ylim(3000,10000)\n",
    "#lims = [0, 50]\n",
    "#plt.xlim(lims)\n",
    "#plt.ylim(lims)\n",
    "#_ = plt.plot(lims, lims)"
   ]
  },
  {
   "cell_type": "code",
   "execution_count": null,
   "metadata": {},
   "outputs": [],
   "source": []
  }
 ],
 "metadata": {
  "kernelspec": {
   "display_name": "Python 3",
   "language": "python",
   "name": "python3"
  },
  "language_info": {
   "codemirror_mode": {
    "name": "ipython",
    "version": 3
   },
   "file_extension": ".py",
   "mimetype": "text/x-python",
   "name": "python",
   "nbconvert_exporter": "python",
   "pygments_lexer": "ipython3",
   "version": "3.7.1"
  }
 },
 "nbformat": 4,
 "nbformat_minor": 4
}
